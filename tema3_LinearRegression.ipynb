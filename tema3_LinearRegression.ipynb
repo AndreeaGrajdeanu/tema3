{
 "cells": [
  {
   "cell_type": "markdown",
   "metadata": {},
   "source": [
    "#### Fit a linear model on credit data set predicting balance from other variables.\n",
    "\n",
    "1. Build the linear model, fit it on data and print the summary of the errors\n",
    "2. Comment which variables looks significant and which does not. \n",
    "3. Based on observations from the previous point, find a smaller regression model which has the same coefficient of determination and uses less variables for prediction. "
   ]
  },
  {
   "cell_type": "code",
   "execution_count": 35,
   "metadata": {},
   "outputs": [
    {
     "name": "stdout",
     "output_type": "stream",
     "text": [
      "Populating the interactive namespace from numpy and matplotlib\n"
     ]
    }
   ],
   "source": [
    "import pandas as pd\n",
    "import numpy as np\n",
    "import matplotlib.pyplot as plt\n",
    "\n",
    "from sklearn.preprocessing import scale\n",
    "import sklearn.linear_model as skl_lm\n",
    "from sklearn.metrics import mean_squared_error, r2_score\n",
    "import statsmodels.api as sm\n",
    "import statsmodels.formula.api as smf\n",
    "import scipy.stats as spst\n",
    "\n",
    "import seaborn as sns\n",
    "\n",
    "\n",
    "%matplotlib inline\n",
    "plt.style.use('seaborn-white')\n",
    "%pylab inline\n",
    "pylab.rcParams['figure.figsize'] = (16, 8)"
   ]
  },
  {
   "cell_type": "code",
   "execution_count": 2,
   "metadata": {},
   "outputs": [],
   "source": [
    "credit = pd.read_csv('credit.csv')"
   ]
  },
  {
   "cell_type": "code",
   "execution_count": 5,
   "metadata": {},
   "outputs": [
    {
     "data": {
      "text/html": [
       "<div>\n",
       "<style scoped>\n",
       "    .dataframe tbody tr th:only-of-type {\n",
       "        vertical-align: middle;\n",
       "    }\n",
       "\n",
       "    .dataframe tbody tr th {\n",
       "        vertical-align: top;\n",
       "    }\n",
       "\n",
       "    .dataframe thead th {\n",
       "        text-align: right;\n",
       "    }\n",
       "</style>\n",
       "<table border=\"1\" class=\"dataframe\">\n",
       "  <thead>\n",
       "    <tr style=\"text-align: right;\">\n",
       "      <th></th>\n",
       "      <th>Income</th>\n",
       "      <th>Limit</th>\n",
       "      <th>Rating</th>\n",
       "      <th>Cards</th>\n",
       "      <th>Age</th>\n",
       "      <th>Education</th>\n",
       "      <th>Gender</th>\n",
       "      <th>Student</th>\n",
       "      <th>Married</th>\n",
       "      <th>Ethnicity</th>\n",
       "      <th>Balance</th>\n",
       "    </tr>\n",
       "  </thead>\n",
       "  <tbody>\n",
       "    <tr>\n",
       "      <td>0</td>\n",
       "      <td>14.891</td>\n",
       "      <td>3606</td>\n",
       "      <td>283</td>\n",
       "      <td>2</td>\n",
       "      <td>34</td>\n",
       "      <td>11</td>\n",
       "      <td>Male</td>\n",
       "      <td>No</td>\n",
       "      <td>Yes</td>\n",
       "      <td>Caucasian</td>\n",
       "      <td>333</td>\n",
       "    </tr>\n",
       "    <tr>\n",
       "      <td>1</td>\n",
       "      <td>106.025</td>\n",
       "      <td>6645</td>\n",
       "      <td>483</td>\n",
       "      <td>3</td>\n",
       "      <td>82</td>\n",
       "      <td>15</td>\n",
       "      <td>Female</td>\n",
       "      <td>Yes</td>\n",
       "      <td>Yes</td>\n",
       "      <td>Asian</td>\n",
       "      <td>903</td>\n",
       "    </tr>\n",
       "    <tr>\n",
       "      <td>2</td>\n",
       "      <td>104.593</td>\n",
       "      <td>7075</td>\n",
       "      <td>514</td>\n",
       "      <td>4</td>\n",
       "      <td>71</td>\n",
       "      <td>11</td>\n",
       "      <td>Male</td>\n",
       "      <td>No</td>\n",
       "      <td>No</td>\n",
       "      <td>Asian</td>\n",
       "      <td>580</td>\n",
       "    </tr>\n",
       "    <tr>\n",
       "      <td>3</td>\n",
       "      <td>148.924</td>\n",
       "      <td>9504</td>\n",
       "      <td>681</td>\n",
       "      <td>3</td>\n",
       "      <td>36</td>\n",
       "      <td>11</td>\n",
       "      <td>Female</td>\n",
       "      <td>No</td>\n",
       "      <td>No</td>\n",
       "      <td>Asian</td>\n",
       "      <td>964</td>\n",
       "    </tr>\n",
       "    <tr>\n",
       "      <td>4</td>\n",
       "      <td>55.882</td>\n",
       "      <td>4897</td>\n",
       "      <td>357</td>\n",
       "      <td>2</td>\n",
       "      <td>68</td>\n",
       "      <td>16</td>\n",
       "      <td>Male</td>\n",
       "      <td>No</td>\n",
       "      <td>Yes</td>\n",
       "      <td>Caucasian</td>\n",
       "      <td>331</td>\n",
       "    </tr>\n",
       "    <tr>\n",
       "      <td>5</td>\n",
       "      <td>80.180</td>\n",
       "      <td>8047</td>\n",
       "      <td>569</td>\n",
       "      <td>4</td>\n",
       "      <td>77</td>\n",
       "      <td>10</td>\n",
       "      <td>Male</td>\n",
       "      <td>No</td>\n",
       "      <td>No</td>\n",
       "      <td>Caucasian</td>\n",
       "      <td>1151</td>\n",
       "    </tr>\n",
       "    <tr>\n",
       "      <td>6</td>\n",
       "      <td>20.996</td>\n",
       "      <td>3388</td>\n",
       "      <td>259</td>\n",
       "      <td>2</td>\n",
       "      <td>37</td>\n",
       "      <td>12</td>\n",
       "      <td>Female</td>\n",
       "      <td>No</td>\n",
       "      <td>No</td>\n",
       "      <td>African American</td>\n",
       "      <td>203</td>\n",
       "    </tr>\n",
       "    <tr>\n",
       "      <td>7</td>\n",
       "      <td>71.408</td>\n",
       "      <td>7114</td>\n",
       "      <td>512</td>\n",
       "      <td>2</td>\n",
       "      <td>87</td>\n",
       "      <td>9</td>\n",
       "      <td>Male</td>\n",
       "      <td>No</td>\n",
       "      <td>No</td>\n",
       "      <td>Asian</td>\n",
       "      <td>872</td>\n",
       "    </tr>\n",
       "    <tr>\n",
       "      <td>8</td>\n",
       "      <td>15.125</td>\n",
       "      <td>3300</td>\n",
       "      <td>266</td>\n",
       "      <td>5</td>\n",
       "      <td>66</td>\n",
       "      <td>13</td>\n",
       "      <td>Female</td>\n",
       "      <td>No</td>\n",
       "      <td>No</td>\n",
       "      <td>Caucasian</td>\n",
       "      <td>279</td>\n",
       "    </tr>\n",
       "    <tr>\n",
       "      <td>9</td>\n",
       "      <td>71.061</td>\n",
       "      <td>6819</td>\n",
       "      <td>491</td>\n",
       "      <td>3</td>\n",
       "      <td>41</td>\n",
       "      <td>19</td>\n",
       "      <td>Female</td>\n",
       "      <td>Yes</td>\n",
       "      <td>Yes</td>\n",
       "      <td>African American</td>\n",
       "      <td>1350</td>\n",
       "    </tr>\n",
       "  </tbody>\n",
       "</table>\n",
       "</div>"
      ],
      "text/plain": [
       "    Income  Limit  Rating  Cards  Age  Education  Gender Student Married  \\\n",
       "0   14.891   3606     283      2   34         11    Male      No     Yes   \n",
       "1  106.025   6645     483      3   82         15  Female     Yes     Yes   \n",
       "2  104.593   7075     514      4   71         11    Male      No      No   \n",
       "3  148.924   9504     681      3   36         11  Female      No      No   \n",
       "4   55.882   4897     357      2   68         16    Male      No     Yes   \n",
       "5   80.180   8047     569      4   77         10    Male      No      No   \n",
       "6   20.996   3388     259      2   37         12  Female      No      No   \n",
       "7   71.408   7114     512      2   87          9    Male      No      No   \n",
       "8   15.125   3300     266      5   66         13  Female      No      No   \n",
       "9   71.061   6819     491      3   41         19  Female     Yes     Yes   \n",
       "\n",
       "          Ethnicity  Balance  \n",
       "0         Caucasian      333  \n",
       "1             Asian      903  \n",
       "2             Asian      580  \n",
       "3             Asian      964  \n",
       "4         Caucasian      331  \n",
       "5         Caucasian     1151  \n",
       "6  African American      203  \n",
       "7             Asian      872  \n",
       "8         Caucasian      279  \n",
       "9  African American     1350  "
      ]
     },
     "execution_count": 5,
     "metadata": {},
     "output_type": "execute_result"
    }
   ],
   "source": [
    "credit.head(10)"
   ]
  },
  {
   "cell_type": "markdown",
   "metadata": {},
   "source": [
    "##### Build the linear model, fit it on data and print the summary of the errors"
   ]
  },
  {
   "cell_type": "markdown",
   "metadata": {},
   "source": [
    "#### Simple Linear Regression 𝑦=𝛽0+𝛽1𝑥1+𝜖\n",
    "a) Sa vedem in ce masura Balance depinde de Venit:"
   ]
  },
  {
   "cell_type": "code",
   "execution_count": 59,
   "metadata": {},
   "outputs": [
    {
     "data": {
      "text/html": [
       "<table class=\"simpletable\">\n",
       "<caption>OLS Regression Results</caption>\n",
       "<tr>\n",
       "  <th>Dep. Variable:</th>         <td>Balance</td>     <th>  R-squared:         </th> <td>   0.215</td>\n",
       "</tr>\n",
       "<tr>\n",
       "  <th>Model:</th>                   <td>OLS</td>       <th>  Adj. R-squared:    </th> <td>   0.213</td>\n",
       "</tr>\n",
       "<tr>\n",
       "  <th>Method:</th>             <td>Least Squares</td>  <th>  F-statistic:       </th> <td>   109.0</td>\n",
       "</tr>\n",
       "<tr>\n",
       "  <th>Date:</th>             <td>Wed, 13 Nov 2019</td> <th>  Prob (F-statistic):</th> <td>1.03e-22</td>\n",
       "</tr>\n",
       "<tr>\n",
       "  <th>Time:</th>                 <td>21:06:31</td>     <th>  Log-Likelihood:    </th> <td> -2970.9</td>\n",
       "</tr>\n",
       "<tr>\n",
       "  <th>No. Observations:</th>      <td>   400</td>      <th>  AIC:               </th> <td>   5946.</td>\n",
       "</tr>\n",
       "<tr>\n",
       "  <th>Df Residuals:</th>          <td>   398</td>      <th>  BIC:               </th> <td>   5954.</td>\n",
       "</tr>\n",
       "<tr>\n",
       "  <th>Df Model:</th>              <td>     1</td>      <th>                     </th>     <td> </td>   \n",
       "</tr>\n",
       "<tr>\n",
       "  <th>Covariance Type:</th>      <td>nonrobust</td>    <th>                     </th>     <td> </td>   \n",
       "</tr>\n",
       "</table>\n",
       "<table class=\"simpletable\">\n",
       "<tr>\n",
       "      <td></td>         <th>coef</th>     <th>std err</th>      <th>t</th>      <th>P>|t|</th>  <th>[0.025</th>    <th>0.975]</th>  \n",
       "</tr>\n",
       "<tr>\n",
       "  <th>Intercept</th> <td>  246.5148</td> <td>   33.199</td> <td>    7.425</td> <td> 0.000</td> <td>  181.247</td> <td>  311.783</td>\n",
       "</tr>\n",
       "<tr>\n",
       "  <th>Income</th>    <td>    6.0484</td> <td>    0.579</td> <td>   10.440</td> <td> 0.000</td> <td>    4.909</td> <td>    7.187</td>\n",
       "</tr>\n",
       "</table>\n",
       "<table class=\"simpletable\">\n",
       "<tr>\n",
       "  <th>Omnibus:</th>       <td>42.505</td> <th>  Durbin-Watson:     </th> <td>   1.951</td>\n",
       "</tr>\n",
       "<tr>\n",
       "  <th>Prob(Omnibus):</th> <td> 0.000</td> <th>  Jarque-Bera (JB):  </th> <td>  20.975</td>\n",
       "</tr>\n",
       "<tr>\n",
       "  <th>Skew:</th>          <td> 0.384</td> <th>  Prob(JB):          </th> <td>2.79e-05</td>\n",
       "</tr>\n",
       "<tr>\n",
       "  <th>Kurtosis:</th>      <td> 2.182</td> <th>  Cond. No.          </th> <td>    93.3</td>\n",
       "</tr>\n",
       "</table><br/><br/>Warnings:<br/>[1] Standard Errors assume that the covariance matrix of the errors is correctly specified."
      ],
      "text/plain": [
       "<class 'statsmodels.iolib.summary.Summary'>\n",
       "\"\"\"\n",
       "                            OLS Regression Results                            \n",
       "==============================================================================\n",
       "Dep. Variable:                Balance   R-squared:                       0.215\n",
       "Model:                            OLS   Adj. R-squared:                  0.213\n",
       "Method:                 Least Squares   F-statistic:                     109.0\n",
       "Date:                Wed, 13 Nov 2019   Prob (F-statistic):           1.03e-22\n",
       "Time:                        21:06:31   Log-Likelihood:                -2970.9\n",
       "No. Observations:                 400   AIC:                             5946.\n",
       "Df Residuals:                     398   BIC:                             5954.\n",
       "Df Model:                           1                                         \n",
       "Covariance Type:            nonrobust                                         \n",
       "==============================================================================\n",
       "                 coef    std err          t      P>|t|      [0.025      0.975]\n",
       "------------------------------------------------------------------------------\n",
       "Intercept    246.5148     33.199      7.425      0.000     181.247     311.783\n",
       "Income         6.0484      0.579     10.440      0.000       4.909       7.187\n",
       "==============================================================================\n",
       "Omnibus:                       42.505   Durbin-Watson:                   1.951\n",
       "Prob(Omnibus):                  0.000   Jarque-Bera (JB):               20.975\n",
       "Skew:                           0.384   Prob(JB):                     2.79e-05\n",
       "Kurtosis:                       2.182   Cond. No.                         93.3\n",
       "==============================================================================\n",
       "\n",
       "Warnings:\n",
       "[1] Standard Errors assume that the covariance matrix of the errors is correctly specified.\n",
       "\"\"\""
      ]
     },
     "execution_count": 59,
     "metadata": {},
     "output_type": "execute_result"
    }
   ],
   "source": [
    "lm1 = smf.ols('Balance~Income', credit).fit()\n",
    "lm1.summary()"
   ]
  },
  {
   "cell_type": "markdown",
   "metadata": {},
   "source": [
    "##### Observam ca p-val (sigma) este foarte mic, deci Venitul este semnificativ pentru Balance"
   ]
  },
  {
   "cell_type": "markdown",
   "metadata": {},
   "source": [
    "b) Sa vedem in ce masura Balance depinde de Educatie:"
   ]
  },
  {
   "cell_type": "code",
   "execution_count": 57,
   "metadata": {},
   "outputs": [
    {
     "data": {
      "text/html": [
       "<table class=\"simpletable\">\n",
       "<caption>OLS Regression Results</caption>\n",
       "<tr>\n",
       "  <th>Dep. Variable:</th>         <td>Balance</td>     <th>  R-squared:         </th> <td>   0.000</td>\n",
       "</tr>\n",
       "<tr>\n",
       "  <th>Model:</th>                   <td>OLS</td>       <th>  Adj. R-squared:    </th> <td>  -0.002</td>\n",
       "</tr>\n",
       "<tr>\n",
       "  <th>Method:</th>             <td>Least Squares</td>  <th>  F-statistic:       </th> <td> 0.02587</td>\n",
       "</tr>\n",
       "<tr>\n",
       "  <th>Date:</th>             <td>Wed, 13 Nov 2019</td> <th>  Prob (F-statistic):</th>  <td> 0.872</td> \n",
       "</tr>\n",
       "<tr>\n",
       "  <th>Time:</th>                 <td>21:01:51</td>     <th>  Log-Likelihood:    </th> <td> -3019.3</td>\n",
       "</tr>\n",
       "<tr>\n",
       "  <th>No. Observations:</th>      <td>   400</td>      <th>  AIC:               </th> <td>   6043.</td>\n",
       "</tr>\n",
       "<tr>\n",
       "  <th>Df Residuals:</th>          <td>   398</td>      <th>  BIC:               </th> <td>   6051.</td>\n",
       "</tr>\n",
       "<tr>\n",
       "  <th>Df Model:</th>              <td>     1</td>      <th>                     </th>     <td> </td>   \n",
       "</tr>\n",
       "<tr>\n",
       "  <th>Covariance Type:</th>      <td>nonrobust</td>    <th>                     </th>     <td> </td>   \n",
       "</tr>\n",
       "</table>\n",
       "<table class=\"simpletable\">\n",
       "<tr>\n",
       "      <td></td>         <th>coef</th>     <th>std err</th>      <th>t</th>      <th>P>|t|</th>  <th>[0.025</th>    <th>0.975]</th>  \n",
       "</tr>\n",
       "<tr>\n",
       "  <th>Intercept</th> <td>  535.9662</td> <td>  101.814</td> <td>    5.264</td> <td> 0.000</td> <td>  335.805</td> <td>  736.127</td>\n",
       "</tr>\n",
       "<tr>\n",
       "  <th>Education</th> <td>   -1.1860</td> <td>    7.374</td> <td>   -0.161</td> <td> 0.872</td> <td>  -15.683</td> <td>   13.311</td>\n",
       "</tr>\n",
       "</table>\n",
       "<table class=\"simpletable\">\n",
       "<tr>\n",
       "  <th>Omnibus:</th>       <td>28.655</td> <th>  Durbin-Watson:     </th> <td>   1.943</td>\n",
       "</tr>\n",
       "<tr>\n",
       "  <th>Prob(Omnibus):</th> <td> 0.000</td> <th>  Jarque-Bera (JB):  </th> <td>  27.467</td>\n",
       "</tr>\n",
       "<tr>\n",
       "  <th>Skew:</th>          <td> 0.584</td> <th>  Prob(JB):          </th> <td>1.09e-06</td>\n",
       "</tr>\n",
       "<tr>\n",
       "  <th>Kurtosis:</th>      <td> 2.467</td> <th>  Cond. No.          </th> <td>    61.4</td>\n",
       "</tr>\n",
       "</table><br/><br/>Warnings:<br/>[1] Standard Errors assume that the covariance matrix of the errors is correctly specified."
      ],
      "text/plain": [
       "<class 'statsmodels.iolib.summary.Summary'>\n",
       "\"\"\"\n",
       "                            OLS Regression Results                            \n",
       "==============================================================================\n",
       "Dep. Variable:                Balance   R-squared:                       0.000\n",
       "Model:                            OLS   Adj. R-squared:                 -0.002\n",
       "Method:                 Least Squares   F-statistic:                   0.02587\n",
       "Date:                Wed, 13 Nov 2019   Prob (F-statistic):              0.872\n",
       "Time:                        21:01:51   Log-Likelihood:                -3019.3\n",
       "No. Observations:                 400   AIC:                             6043.\n",
       "Df Residuals:                     398   BIC:                             6051.\n",
       "Df Model:                           1                                         \n",
       "Covariance Type:            nonrobust                                         \n",
       "==============================================================================\n",
       "                 coef    std err          t      P>|t|      [0.025      0.975]\n",
       "------------------------------------------------------------------------------\n",
       "Intercept    535.9662    101.814      5.264      0.000     335.805     736.127\n",
       "Education     -1.1860      7.374     -0.161      0.872     -15.683      13.311\n",
       "==============================================================================\n",
       "Omnibus:                       28.655   Durbin-Watson:                   1.943\n",
       "Prob(Omnibus):                  0.000   Jarque-Bera (JB):               27.467\n",
       "Skew:                           0.584   Prob(JB):                     1.09e-06\n",
       "Kurtosis:                       2.467   Cond. No.                         61.4\n",
       "==============================================================================\n",
       "\n",
       "Warnings:\n",
       "[1] Standard Errors assume that the covariance matrix of the errors is correctly specified.\n",
       "\"\"\""
      ]
     },
     "execution_count": 57,
     "metadata": {},
     "output_type": "execute_result"
    }
   ],
   "source": [
    "lm2 = smf.ols('Balance ~ Education', credit).fit()\n",
    "lm2.summary()"
   ]
  },
  {
   "cell_type": "markdown",
   "metadata": {},
   "source": [
    "##### Observam ca p-val (sigma) = 0.872 > (riscul) alfa= 0.05, deci Educatia nu este semnificativ pentru Balance"
   ]
  },
  {
   "cell_type": "markdown",
   "metadata": {},
   "source": [
    "c)Sa vedem si cateva grafice, din care putem sa tragem cateva concluzii:"
   ]
  },
  {
   "cell_type": "code",
   "execution_count": 26,
   "metadata": {},
   "outputs": [
    {
     "data": {
      "image/png": "[encoded data removed]",
      "text/plain": [
       "<Figure size 1152x576 with 6 Axes>"
      ]
     },
     "metadata": {
      "needs_background": "light"
     },
     "output_type": "display_data"
    }
   ],
   "source": [
    "plt.subplot(161)\n",
    "plt.scatter(credit['Balance'], credit['Income'])\n",
    "plt.xlabel('Balance')\n",
    "plt.ylabel('Income')\n",
    "\n",
    "plt.subplot(162)\n",
    "plt.scatter(credit['Balance'], credit['Limit'])\n",
    "plt.xlabel('Balance')\n",
    "plt.ylabel('Limit')\n",
    "\n",
    "plt.subplot(163)\n",
    "plt.scatter(credit['Balance'], credit['Rating'])\n",
    "plt.xlabel('Balance')\n",
    "plt.ylabel('Rating')\n",
    "\n",
    "plt.subplot(164)\n",
    "plt.scatter(credit['Balance'], credit['Cards'])\n",
    "plt.xlabel('Balance')\n",
    "plt.ylabel('Cards')\n",
    "\n",
    "plt.subplot(165)\n",
    "plt.scatter(credit['Balance'], credit['Age'])\n",
    "plt.xlabel('Balance')\n",
    "plt.ylabel('Age')\n",
    "\n",
    "plt.subplot(166)\n",
    "plt.scatter(credit['Balance'], credit['Education'])\n",
    "plt.xlabel('Balance')\n",
    "plt.ylabel('Education')\n",
    "\n",
    "plt.show()"
   ]
  },
  {
   "cell_type": "markdown",
   "metadata": {},
   "source": [
    "##### Interpretare: La prima vedere, putem spune sigur ca Income, Limit si Rating sunt semnificative pentru variatia lui Balance"
   ]
  },
  {
   "cell_type": "code",
   "execution_count": 60,
   "metadata": {},
   "outputs": [
    {
     "name": "stdout",
     "output_type": "stream",
     "text": [
      "             Income     Limit    Rating     Cards       Age  Education  \\\n",
      "Income     1.000000  0.792088  0.791378 -0.018273  0.175338  -0.027692   \n",
      "Limit      0.792088  1.000000  0.996880  0.010231  0.100888  -0.023549   \n",
      "Rating     0.791378  0.996880  1.000000  0.053239  0.103165  -0.030136   \n",
      "Cards     -0.018273  0.010231  0.053239  1.000000  0.042948  -0.051084   \n",
      "Age        0.175338  0.100888  0.103165  0.042948  1.000000   0.003619   \n",
      "Education -0.027692 -0.023549 -0.030136 -0.051084  0.003619   1.000000   \n",
      "Balance    0.463656  0.861697  0.863625  0.086456  0.001835  -0.008062   \n",
      "\n",
      "            Balance  \n",
      "Income     0.463656  \n",
      "Limit      0.861697  \n",
      "Rating     0.863625  \n",
      "Cards      0.086456  \n",
      "Age        0.001835  \n",
      "Education -0.008062  \n",
      "Balance    1.000000  \n"
     ]
    },
    {
     "data": {
      "image/png": "[encoded data removed]",
      "text/plain": [
       "<Figure size 576x576 with 1 Axes>"
      ]
     },
     "metadata": {
      "needs_background": "light"
     },
     "output_type": "display_data"
    }
   ],
   "source": [
    "# sa vedem si corelatia dintre variabile\n",
    "\n",
    "plt.matshow(credit.corr())\n",
    "plt.xticks(range(len(credit.columns)), credit.columns)\n",
    "plt.yticks(range(len(credit.columns)), credit.columns)\n",
    "\n",
    "print(credit.corr())"
   ]
  },
  {
   "cell_type": "markdown",
   "metadata": {},
   "source": [
    "##### Interpretare: Se observa o corelatie buna intre: Income, Limit, Rating cu Balance"
   ]
  },
  {
   "cell_type": "code",
   "execution_count": 38,
   "metadata": {},
   "outputs": [
    {
     "name": "stdout",
     "output_type": "stream",
     "text": [
      "==============================================================================\n",
      "                 coef    std err          t      P>|t|      [0.025      0.975]\n",
      "------------------------------------------------------------------------------\n",
      "Intercept    246.5148     33.199      7.425      0.000     181.247     311.783\n",
      "Income         6.0484      0.579     10.440      0.000       4.909       7.187\n",
      "==============================================================================\n"
     ]
    }
   ],
   "source": [
    "# How well Income predicts Balance\n",
    "#REGRESIA LINIARA PT Income, pv mic => b semnificativ\n",
    "lm3 = smf.ols('Balance ~ Income', data=credit).fit()\n",
    "print(lm3.summary().tables[1])"
   ]
  },
  {
   "cell_type": "markdown",
   "metadata": {},
   "source": [
    "#### => Income variabila semnificativa in variatia lui Balance"
   ]
  },
  {
   "cell_type": "code",
   "execution_count": 62,
   "metadata": {},
   "outputs": [
    {
     "name": "stdout",
     "output_type": "stream",
     "text": [
      "==============================================================================\n",
      "                 coef    std err          t      P>|t|      [0.025      0.975]\n",
      "------------------------------------------------------------------------------\n",
      "Intercept   -292.7905     26.683    -10.973      0.000    -345.249    -240.332\n",
      "Limit          0.1716      0.005     33.879      0.000       0.162       0.182\n",
      "==============================================================================\n"
     ]
    }
   ],
   "source": [
    "# How well Limit predicts Balance\n",
    "#REGRESIA LINIARA PT Limit\n",
    "lm4 = smf.ols('Balance ~ Limit', data=credit).fit()\n",
    "print(lm4.summary().tables[1])"
   ]
  },
  {
   "cell_type": "markdown",
   "metadata": {},
   "source": [
    "#### => Limit variabila semnificativa in variatia lui Balance"
   ]
  },
  {
   "cell_type": "code",
   "execution_count": 63,
   "metadata": {},
   "outputs": [
    {
     "name": "stdout",
     "output_type": "stream",
     "text": [
      "==============================================================================\n",
      "                 coef    std err          t      P>|t|      [0.025      0.975]\n",
      "------------------------------------------------------------------------------\n",
      "Intercept   -390.8463     29.069    -13.446      0.000    -447.993    -333.699\n",
      "Rating         2.5662      0.075     34.176      0.000       2.419       2.714\n",
      "==============================================================================\n"
     ]
    }
   ],
   "source": [
    "# How well rating predicts Balance\n",
    "lm5 = smf.ols('Balance ~ Rating', data=credit).fit()\n",
    "print(lm5.summary().tables[1])"
   ]
  },
  {
   "cell_type": "markdown",
   "metadata": {},
   "source": [
    "#### => Rating variabila semnificativa in variatia lui Balance"
   ]
  },
  {
   "cell_type": "code",
   "execution_count": 64,
   "metadata": {},
   "outputs": [
    {
     "name": "stdout",
     "output_type": "stream",
     "text": [
      "==============================================================================\n",
      "                 coef    std err          t      P>|t|      [0.025      0.975]\n",
      "------------------------------------------------------------------------------\n",
      "Intercept    434.2861     54.569      7.958      0.000     327.006     541.566\n",
      "Cards         28.9869     16.743      1.731      0.084      -3.929      61.903\n",
      "==============================================================================\n"
     ]
    }
   ],
   "source": [
    "# How well Cards predicts Balance\n",
    "lm6 = smf.ols('Balance ~ Cards', data=credit).fit()\n",
    "print(lm6.summary().tables[1])"
   ]
  },
  {
   "cell_type": "markdown",
   "metadata": {},
   "source": [
    "#### (pv = 0.084) > 0.05 => Cards nu este variabila semnificativa in variatia lui Balance"
   ]
  },
  {
   "cell_type": "code",
   "execution_count": 65,
   "metadata": {},
   "outputs": [
    {
     "name": "stdout",
     "output_type": "stream",
     "text": [
      "==============================================================================\n",
      "                 coef    std err          t      P>|t|      [0.025      0.975]\n",
      "------------------------------------------------------------------------------\n",
      "Intercept    517.2922     77.852      6.645      0.000     364.241     670.344\n",
      "Age            0.0489      1.336      0.037      0.971      -2.578       2.675\n",
      "==============================================================================\n"
     ]
    }
   ],
   "source": [
    "# How well Age predicts Balance\n",
    "lm7 = smf.ols('Balance ~ Age', data=credit).fit()\n",
    "print(lm7.summary().tables[1])"
   ]
  },
  {
   "cell_type": "markdown",
   "metadata": {},
   "source": [
    "#### (pv=0.971) > 0.05 => Age nu este variabila semnificativa in variatia lui Balance"
   ]
  },
  {
   "cell_type": "code",
   "execution_count": 66,
   "metadata": {},
   "outputs": [
    {
     "name": "stdout",
     "output_type": "stream",
     "text": [
      "==============================================================================\n",
      "                 coef    std err          t      P>|t|      [0.025      0.975]\n",
      "------------------------------------------------------------------------------\n",
      "Intercept    535.9662    101.814      5.264      0.000     335.805     736.127\n",
      "Education     -1.1860      7.374     -0.161      0.872     -15.683      13.311\n",
      "==============================================================================\n"
     ]
    }
   ],
   "source": [
    "# How well Education predicts Balance\n",
    "lm8 = smf.ols('Balance ~ Education', data=credit).fit()\n",
    "print(lm8.summary().tables[1])"
   ]
  },
  {
   "cell_type": "markdown",
   "metadata": {},
   "source": [
    "#### ( pv=0.872 ) > 0.05 => Education nu este variabila semnificativa in variatia lui Balance"
   ]
  },
  {
   "cell_type": "code",
   "execution_count": 44,
   "metadata": {},
   "outputs": [
    {
     "name": "stdout",
     "output_type": "stream",
     "text": [
      "==================================================================================\n",
      "                     coef    std err          t      P>|t|      [0.025      0.975]\n",
      "----------------------------------------------------------------------------------\n",
      "Intercept        529.5362     31.988     16.554      0.000     466.649     592.423\n",
      "Gender[T.Male]   -19.7331     46.051     -0.429      0.669    -110.267      70.801\n",
      "==================================================================================\n"
     ]
    }
   ],
   "source": [
    "# How well Gender predicts Balance\n",
    "lm9 = smf.ols('Balance ~ Gender', data=credit).fit()\n",
    "print(lm9.summary().tables[1])"
   ]
  },
  {
   "cell_type": "markdown",
   "metadata": {},
   "source": [
    "#### ( pv=0.669 ) > 0.05 => Gender nu este variabila semnificativa in variatia lui Balance"
   ]
  },
  {
   "cell_type": "code",
   "execution_count": 67,
   "metadata": {},
   "outputs": [
    {
     "name": "stdout",
     "output_type": "stream",
     "text": [
      "==================================================================================\n",
      "                     coef    std err          t      P>|t|      [0.025      0.975]\n",
      "----------------------------------------------------------------------------------\n",
      "Intercept        480.3694     23.434     20.499      0.000     434.300     526.439\n",
      "Student[T.Yes]   396.4556     74.104      5.350      0.000     250.771     542.140\n",
      "==================================================================================\n"
     ]
    }
   ],
   "source": [
    "# How well Student predicts Balance\n",
    "lm10 = smf.ols('Balance ~ Student', data=credit).fit()\n",
    "print(lm10.summary().tables[1])"
   ]
  },
  {
   "cell_type": "markdown",
   "metadata": {},
   "source": [
    "#### ( pv=0.000 ) < 0.05 => Student variabila semnificativa in variatia lui Balance"
   ]
  },
  {
   "cell_type": "code",
   "execution_count": 68,
   "metadata": {},
   "outputs": [
    {
     "name": "stdout",
     "output_type": "stream",
     "text": [
      "==================================================================================\n",
      "                     coef    std err          t      P>|t|      [0.025      0.975]\n",
      "----------------------------------------------------------------------------------\n",
      "Intercept        523.2903     36.974     14.153      0.000     450.601     595.980\n",
      "Married[T.Yes]    -5.3475     47.244     -0.113      0.910     -98.227      87.532\n",
      "==================================================================================\n"
     ]
    }
   ],
   "source": [
    "# How well Married predicts Balance\n",
    "lm11 = smf.ols('Balance ~ Married', data=credit).fit()\n",
    "print(lm11.summary().tables[1])\n",
    "\n"
   ]
  },
  {
   "cell_type": "markdown",
   "metadata": {},
   "source": [
    "#### ( pv=0.910 ) > 0.05 => Married nu este variabila semnificativa in variatia lui Balance"
   ]
  },
  {
   "cell_type": "code",
   "execution_count": 69,
   "metadata": {},
   "outputs": [
    {
     "name": "stdout",
     "output_type": "stream",
     "text": [
      "==========================================================================================\n",
      "                             coef    std err          t      P>|t|      [0.025      0.975]\n",
      "------------------------------------------------------------------------------------------\n",
      "Intercept                531.0000     46.319     11.464      0.000     439.939     622.061\n",
      "Ethnicity[T.Asian]       -18.6863     65.021     -0.287      0.774    -146.515     109.142\n",
      "Ethnicity[T.Caucasian]   -12.5025     56.681     -0.221      0.826    -123.935      98.930\n",
      "==========================================================================================\n"
     ]
    }
   ],
   "source": [
    "# How well Ethnicity predicts Balance\n",
    "lm12 = smf.ols('Balance ~ Ethnicity', data=credit).fit()\n",
    "print(lm12.summary().tables[1])"
   ]
  },
  {
   "cell_type": "markdown",
   "metadata": {},
   "source": [
    "#### pv mare => Ethnicity nu este variabila semnificativa in variatia lui Balance"
   ]
  },
  {
   "cell_type": "markdown",
   "metadata": {},
   "source": [
    "### Construim modelul de regresie liniara multipla cu toate variabilele independente din tabel"
   ]
  },
  {
   "cell_type": "code",
   "execution_count": 71,
   "metadata": {},
   "outputs": [
    {
     "name": "stdout",
     "output_type": "stream",
     "text": [
      "                            OLS Regression Results                            \n",
      "==============================================================================\n",
      "Dep. Variable:                Balance   R-squared:                       0.955\n",
      "Model:                            OLS   Adj. R-squared:                  0.954\n",
      "Method:                 Least Squares   F-statistic:                     750.3\n",
      "Date:                Wed, 13 Nov 2019   Prob (F-statistic):          1.11e-253\n",
      "Time:                        21:33:22   Log-Likelihood:                -2398.7\n",
      "No. Observations:                 400   AIC:                             4821.\n",
      "Df Residuals:                     388   BIC:                             4869.\n",
      "Df Model:                          11                                         \n",
      "Covariance Type:            nonrobust                                         \n",
      "==========================================================================================\n",
      "                             coef    std err          t      P>|t|      [0.025      0.975]\n",
      "------------------------------------------------------------------------------------------\n",
      "Intercept               -489.8611     35.801    -13.683      0.000    -560.250    -419.473\n",
      "Gender[T.Male]            10.6532      9.914      1.075      0.283      -8.839      30.145\n",
      "Student[T.Yes]           425.7474     16.723     25.459      0.000     392.869     458.626\n",
      "Married[T.Yes]            -8.5339     10.363     -0.824      0.411     -28.908      11.841\n",
      "Ethnicity[T.Asian]        16.8042     14.119      1.190      0.235     -10.955      44.564\n",
      "Ethnicity[T.Caucasian]    10.1070     12.210      0.828      0.408     -13.899      34.113\n",
      "Income                    -7.8031      0.234    -33.314      0.000      -8.264      -7.343\n",
      "Limit                      0.1909      0.033      5.824      0.000       0.126       0.255\n",
      "Rating                     1.1365      0.491      2.315      0.021       0.171       2.102\n",
      "Cards                     17.7245      4.341      4.083      0.000       9.190      26.259\n",
      "Age                       -0.6139      0.294     -2.088      0.037      -1.192      -0.036\n",
      "Education                 -1.0989      1.598     -0.688      0.492      -4.241       2.043\n",
      "==============================================================================\n",
      "Omnibus:                       34.899   Durbin-Watson:                   1.968\n",
      "Prob(Omnibus):                  0.000   Jarque-Bera (JB):               41.766\n",
      "Skew:                           0.782   Prob(JB):                     8.52e-10\n",
      "Kurtosis:                       3.241   Cond. No.                     3.87e+04\n",
      "==============================================================================\n",
      "\n",
      "Warnings:\n",
      "[1] Standard Errors assume that the covariance matrix of the errors is correctly specified.\n",
      "[2] The condition number is large, 3.87e+04. This might indicate that there are\n",
      "strong multicollinearity or other numerical problems.\n"
     ]
    }
   ],
   "source": [
    "lm4= smf.ols('Balance ~ Income+Limit+Rating+Cards+Age+Education+Gender+Student+Married+Ethnicity', data=credit).fit()\n",
    "print(lm4.summary())"
   ]
  },
  {
   "cell_type": "markdown",
   "metadata": {},
   "source": [
    "#### Din tabel, observam ca avem coeficientul de determinare = 0.955 dar si ca variabilele independente Gender, Married, Ethnicity si Education nu sunt semnificative pt model"
   ]
  },
  {
   "cell_type": "markdown",
   "metadata": {},
   "source": [
    "#### Cnstruim un model de regresie liniara multipla cu mai putine variabile independente:"
   ]
  },
  {
   "cell_type": "code",
   "execution_count": 72,
   "metadata": {},
   "outputs": [
    {
     "name": "stdout",
     "output_type": "stream",
     "text": [
      "                            OLS Regression Results                            \n",
      "==============================================================================\n",
      "Dep. Variable:                Balance   R-squared:                       0.955\n",
      "Model:                            OLS   Adj. R-squared:                  0.954\n",
      "Method:                 Least Squares   F-statistic:                     1380.\n",
      "Date:                Wed, 13 Nov 2019   Prob (F-statistic):          1.58e-260\n",
      "Time:                        21:38:01   Log-Likelihood:                -2400.5\n",
      "No. Observations:                 400   AIC:                             4815.\n",
      "Df Residuals:                     393   BIC:                             4843.\n",
      "Df Model:                           6                                         \n",
      "Covariance Type:            nonrobust                                         \n",
      "==================================================================================\n",
      "                     coef    std err          t      P>|t|      [0.025      0.975]\n",
      "----------------------------------------------------------------------------------\n",
      "Intercept       -493.7342     24.825    -19.889      0.000    -542.540    -444.928\n",
      "Student[T.Yes]   425.6099     16.510     25.780      0.000     393.152     458.068\n",
      "Income            -7.7951      0.233    -33.395      0.000      -8.254      -7.336\n",
      "Limit              0.1937      0.032      5.981      0.000       0.130       0.257\n",
      "Rating             1.0912      0.485      2.251      0.025       0.138       2.044\n",
      "Cards             18.2119      4.319      4.217      0.000       9.721      26.702\n",
      "Age               -0.6241      0.292     -2.139      0.033      -1.198      -0.050\n",
      "==============================================================================\n",
      "Omnibus:                       34.091   Durbin-Watson:                   1.954\n",
      "Prob(Omnibus):                  0.000   Jarque-Bera (JB):               40.623\n",
      "Skew:                           0.772   Prob(JB):                     1.51e-09\n",
      "Kurtosis:                       3.225   Cond. No.                     2.66e+04\n",
      "==============================================================================\n",
      "\n",
      "Warnings:\n",
      "[1] Standard Errors assume that the covariance matrix of the errors is correctly specified.\n",
      "[2] The condition number is large, 2.66e+04. This might indicate that there are\n",
      "strong multicollinearity or other numerical problems.\n"
     ]
    }
   ],
   "source": [
    "lm5= smf.ols('Balance ~ Income+Limit+Rating+Cards+Age+Student', data=credit).fit()\n",
    "print(lm5.summary())"
   ]
  },
  {
   "cell_type": "markdown",
   "metadata": {},
   "source": [
    "#### Am construit un nou model care are coeficientul de determinare ca modelul vechi , R-squared =0.955 "
   ]
  },
  {
   "cell_type": "code",
   "execution_count": null,
   "metadata": {},
   "outputs": [],
   "source": []
  }
 ],
 "metadata": {
  "kernelspec": {
   "display_name": "Python 3",
   "language": "python",
   "name": "python3"
  },
  "language_info": {
   "codemirror_mode": {
    "name": "ipython",
    "version": 3
   },
   "file_extension": ".py",
   "mimetype": "text/x-python",
   "name": "python",
   "nbconvert_exporter": "python",
   "pygments_lexer": "ipython3",
   "version": "3.7.4"
  }
 },
 "nbformat": 4,
 "nbformat_minor": 2
}
