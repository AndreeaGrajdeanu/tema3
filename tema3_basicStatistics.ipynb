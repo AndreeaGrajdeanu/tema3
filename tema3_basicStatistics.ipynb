{
 "cells": [
  {
   "cell_type": "markdown",
   "metadata": {},
   "source": [
    "#### Exercitiul 1. Incercati experimentul aruncarii unei monede. \n",
    "1. Ar fi interesant de facut un experiment cu 5, 10, 30 de observatii. Notati rezultatele.\n",
    "2. Testati rezultatele cu hypothesis testing folosind ca ipoteza nula p=0.5.\n",
    "3. Ce putem spune despre felul in care evolueaza intervalul de incredere?"
   ]
  },
  {
   "cell_type": "code",
   "execution_count": 7,
   "metadata": {},
   "outputs": [
    {
     "name": "stdout",
     "output_type": "stream",
     "text": [
      "Populating the interactive namespace from numpy and matplotlib\n"
     ]
    }
   ],
   "source": [
    "import numpy as np\n",
    "import pandas as pd\n",
    "import scipy\n",
    "import matplotlib.pyplot as plt\n",
    "import math as m\n",
    "import scipy.stats as stats\n",
    "\n",
    "%pylab inline\n",
    "pylab.rcParams['figure.figsize'] = (14, 6)"
   ]
  },
  {
   "cell_type": "code",
   "execution_count": 82,
   "metadata": {},
   "outputs": [
    {
     "name": "stdout",
     "output_type": "stream",
     "text": [
      "Heads:  1 0.2\n",
      "Tails:  4 0.8\n"
     ]
    }
   ],
   "source": [
    "# 1\n",
    "\n",
    "#np.random.seed(3)\n",
    "\n",
    "draws = 5\n",
    "coin_sample = random.binomial(1, 0.5, draws)\n",
    "coin_average = [coin_sample[:jj].mean() for jj in range(1, draws)]\n",
    "\n",
    "heads = np.sum(coin_sample[coin_sample==1])\n",
    "print('Heads: ', heads, heads/draws)\n",
    "print('Tails: ', draws-heads, 1-heads/draws)"
   ]
  },
  {
   "cell_type": "code",
   "execution_count": 83,
   "metadata": {},
   "outputs": [
    {
     "name": "stdout",
     "output_type": "stream",
     "text": [
      "Heads:  6 0.6\n",
      "Tails:  4 0.4\n"
     ]
    }
   ],
   "source": [
    "draws = 10\n",
    "coin_sample = random.binomial(1, 0.5, draws)\n",
    "coin_average = [coin_sample[:jj].mean() for jj in range(1, draws)]\n",
    "\n",
    "heads = np.sum(coin_sample[coin_sample==1])\n",
    "print('Heads: ', heads, heads/draws)\n",
    "print('Tails: ', draws-heads, 1-heads/draws)"
   ]
  },
  {
   "cell_type": "code",
   "execution_count": 93,
   "metadata": {},
   "outputs": [
    {
     "name": "stdout",
     "output_type": "stream",
     "text": [
      "Heads:  14 0.4666666666666667\n",
      "Tails:  16 0.5333333333333333\n"
     ]
    }
   ],
   "source": [
    "draws = 30\n",
    "coin_sample = random.binomial(1, 0.5, draws)\n",
    "coin_average = [coin_sample[:jj].mean() for jj in range(1, draws)]\n",
    "\n",
    "heads = np.sum(coin_sample[coin_sample==1])\n",
    "print('Heads: ', heads, heads/draws)\n",
    "print('Tails: ', draws-heads, 1-heads/draws)"
   ]
  },
  {
   "cell_type": "markdown",
   "metadata": {},
   "source": [
    "2.Testati rezultatele cu hypothesis testing folosind ca ipoteza nula p=0.5."
   ]
  },
  {
   "cell_type": "code",
   "execution_count": 86,
   "metadata": {},
   "outputs": [
    {
     "data": {
      "text/plain": [
       "0.375"
      ]
     },
     "execution_count": 86,
     "metadata": {},
     "output_type": "execute_result"
    }
   ],
   "source": [
    "# pentru 5 aruncari\n",
    "\n",
    "stats.binom_test(x=[1, 4], p=0.5, alternative='two-sided')"
   ]
  },
  {
   "cell_type": "code",
   "execution_count": 87,
   "metadata": {},
   "outputs": [
    {
     "data": {
      "text/plain": [
       "0.7539062500000002"
      ]
     },
     "execution_count": 87,
     "metadata": {},
     "output_type": "execute_result"
    }
   ],
   "source": [
    "# pentru 10 aruncari\n",
    "\n",
    "stats.binom_test(x=[6, 4], p=0.5, alternative='two-sided')"
   ]
  },
  {
   "cell_type": "code",
   "execution_count": 88,
   "metadata": {},
   "outputs": [
    {
     "data": {
      "text/plain": [
       "0.5846647117286928"
      ]
     },
     "execution_count": 88,
     "metadata": {},
     "output_type": "execute_result"
    }
   ],
   "source": [
    "# pentru 30 de aruncari\n",
    "\n",
    "stats.binom_test(x=[17, 13], p=0.5, alternative='two-sided')"
   ]
  },
  {
   "cell_type": "markdown",
   "metadata": {},
   "source": [
    "3.Ce putem spune despre felul in care evolueaza intervalul de incredere?"
   ]
  },
  {
   "cell_type": "markdown",
   "metadata": {},
   "source": [
    "#####  RASPUNS:  Executand testele de mai multe ori (simuland si aruncarile), am observat ca pentru valori >= 30 valoarea lui pValue este mai rezonabila, valoarea sa fiind >0.5, neavand motive sa respingem ipoteza ca moneda este \"adevarata\", adicafiecare fata poate cadea cu o probabilitate de 0.5 . Putem supune ca odata cu marirea numarului de observatiiintervalul de incredere este mai mare."
   ]
  },
  {
   "cell_type": "markdown",
   "metadata": {},
   "source": [
    "#### Exercitiul 2\n",
    "\n",
    "Verificati daca exista vre-o corelatie intre inaltimea fetelor sau baietilor in raport cu mamele lor. \n",
    "1. Masurati coeficientul de corelatie dintre aceste variabile \n",
    "2. Comentati aceste rezultate in comparatie cu cele obtinute pentru parintii de sex masculin si copii lor"
   ]
  },
  {
   "cell_type": "code",
   "execution_count": 8,
   "metadata": {},
   "outputs": [],
   "source": [
    " pearson = pd.read_csv('http://www-eio.upc.edu/~pau/cms/rdata/csv/HistData/PearsonLee.csv', index_col=False)\n",
    "#pearson = pd.read_csv('pearson.csv')"
   ]
  },
  {
   "cell_type": "code",
   "execution_count": 110,
   "metadata": {},
   "outputs": [
    {
     "data": {
      "text/html": [
       "<div>\n",
       "<style scoped>\n",
       "    .dataframe tbody tr th:only-of-type {\n",
       "        vertical-align: middle;\n",
       "    }\n",
       "\n",
       "    .dataframe tbody tr th {\n",
       "        vertical-align: top;\n",
       "    }\n",
       "\n",
       "    .dataframe thead th {\n",
       "        text-align: right;\n",
       "    }\n",
       "</style>\n",
       "<table border=\"1\" class=\"dataframe\">\n",
       "  <thead>\n",
       "    <tr style=\"text-align: right;\">\n",
       "      <th></th>\n",
       "      <th>Unnamed: 0</th>\n",
       "      <th>child</th>\n",
       "      <th>parent</th>\n",
       "      <th>frequency</th>\n",
       "      <th>gp</th>\n",
       "      <th>par</th>\n",
       "      <th>chl</th>\n",
       "    </tr>\n",
       "  </thead>\n",
       "  <tbody>\n",
       "    <tr>\n",
       "      <td>0</td>\n",
       "      <td>1</td>\n",
       "      <td>59.5</td>\n",
       "      <td>62.5</td>\n",
       "      <td>0.50</td>\n",
       "      <td>fs</td>\n",
       "      <td>Father</td>\n",
       "      <td>Son</td>\n",
       "    </tr>\n",
       "    <tr>\n",
       "      <td>1</td>\n",
       "      <td>2</td>\n",
       "      <td>59.5</td>\n",
       "      <td>63.5</td>\n",
       "      <td>0.50</td>\n",
       "      <td>fs</td>\n",
       "      <td>Father</td>\n",
       "      <td>Son</td>\n",
       "    </tr>\n",
       "    <tr>\n",
       "      <td>2</td>\n",
       "      <td>3</td>\n",
       "      <td>59.5</td>\n",
       "      <td>64.5</td>\n",
       "      <td>1.00</td>\n",
       "      <td>fs</td>\n",
       "      <td>Father</td>\n",
       "      <td>Son</td>\n",
       "    </tr>\n",
       "    <tr>\n",
       "      <td>3</td>\n",
       "      <td>4</td>\n",
       "      <td>60.5</td>\n",
       "      <td>62.5</td>\n",
       "      <td>0.50</td>\n",
       "      <td>fs</td>\n",
       "      <td>Father</td>\n",
       "      <td>Son</td>\n",
       "    </tr>\n",
       "    <tr>\n",
       "      <td>4</td>\n",
       "      <td>5</td>\n",
       "      <td>60.5</td>\n",
       "      <td>66.5</td>\n",
       "      <td>1.00</td>\n",
       "      <td>fs</td>\n",
       "      <td>Father</td>\n",
       "      <td>Son</td>\n",
       "    </tr>\n",
       "    <tr>\n",
       "      <td>...</td>\n",
       "      <td>...</td>\n",
       "      <td>...</td>\n",
       "      <td>...</td>\n",
       "      <td>...</td>\n",
       "      <td>...</td>\n",
       "      <td>...</td>\n",
       "      <td>...</td>\n",
       "    </tr>\n",
       "    <tr>\n",
       "      <td>341</td>\n",
       "      <td>342</td>\n",
       "      <td>69.5</td>\n",
       "      <td>64.5</td>\n",
       "      <td>5.25</td>\n",
       "      <td>md</td>\n",
       "      <td>Mother</td>\n",
       "      <td>Daughter</td>\n",
       "    </tr>\n",
       "    <tr>\n",
       "      <td>342</td>\n",
       "      <td>343</td>\n",
       "      <td>69.5</td>\n",
       "      <td>65.5</td>\n",
       "      <td>3.25</td>\n",
       "      <td>md</td>\n",
       "      <td>Mother</td>\n",
       "      <td>Daughter</td>\n",
       "    </tr>\n",
       "    <tr>\n",
       "      <td>343</td>\n",
       "      <td>344</td>\n",
       "      <td>69.5</td>\n",
       "      <td>66.5</td>\n",
       "      <td>3.25</td>\n",
       "      <td>md</td>\n",
       "      <td>Mother</td>\n",
       "      <td>Daughter</td>\n",
       "    </tr>\n",
       "    <tr>\n",
       "      <td>344</td>\n",
       "      <td>345</td>\n",
       "      <td>69.5</td>\n",
       "      <td>67.5</td>\n",
       "      <td>0.75</td>\n",
       "      <td>md</td>\n",
       "      <td>Mother</td>\n",
       "      <td>Daughter</td>\n",
       "    </tr>\n",
       "    <tr>\n",
       "      <td>345</td>\n",
       "      <td>346</td>\n",
       "      <td>69.5</td>\n",
       "      <td>68.5</td>\n",
       "      <td>1.00</td>\n",
       "      <td>md</td>\n",
       "      <td>Mother</td>\n",
       "      <td>Daughter</td>\n",
       "    </tr>\n",
       "  </tbody>\n",
       "</table>\n",
       "<p>346 rows × 7 columns</p>\n",
       "</div>"
      ],
      "text/plain": [
       "     Unnamed: 0  child  parent  frequency  gp     par       chl\n",
       "0             1   59.5    62.5       0.50  fs  Father       Son\n",
       "1             2   59.5    63.5       0.50  fs  Father       Son\n",
       "2             3   59.5    64.5       1.00  fs  Father       Son\n",
       "3             4   60.5    62.5       0.50  fs  Father       Son\n",
       "4             5   60.5    66.5       1.00  fs  Father       Son\n",
       "..          ...    ...     ...        ...  ..     ...       ...\n",
       "341         342   69.5    64.5       5.25  md  Mother  Daughter\n",
       "342         343   69.5    65.5       3.25  md  Mother  Daughter\n",
       "343         344   69.5    66.5       3.25  md  Mother  Daughter\n",
       "344         345   69.5    67.5       0.75  md  Mother  Daughter\n",
       "345         346   69.5    68.5       1.00  md  Mother  Daughter\n",
       "\n",
       "[346 rows x 7 columns]"
      ]
     },
     "execution_count": 110,
     "metadata": {},
     "output_type": "execute_result"
    }
   ],
   "source": [
    "pearson.head(-400)"
   ]
  },
  {
   "cell_type": "code",
   "execution_count": 9,
   "metadata": {},
   "outputs": [],
   "source": [
    "fs = pearson[pearson['gp']=='fs']\n",
    "fd = pearson[pearson['gp']=='fd']"
   ]
  },
  {
   "cell_type": "code",
   "execution_count": 10,
   "metadata": {},
   "outputs": [],
   "source": [
    "ms = pearson[pearson['gp']=='ms']\n",
    "md = pearson[pearson['gp']=='md']"
   ]
  },
  {
   "cell_type": "code",
   "execution_count": 11,
   "metadata": {},
   "outputs": [
    {
     "data": {
      "image/png": "[encoded data removed]",
      "text/plain": [
       "<Figure size 1008x432 with 1 Axes>"
      ]
     },
     "metadata": {
      "needs_background": "light"
     },
     "output_type": "display_data"
    }
   ],
   "source": [
    "# facem un scatterdot pentru a vedea corelatia dintre inaltimile fiicelor si a fiilor cu inaltimea tatalui\n",
    "plt.scatter(\n",
    "    fs['child'] + np.random.normal(scale=0.2, size=fs.shape[0]), \n",
    "    fs['parent'] + np.random.normal(scale=0.2, size=fs.shape[0]), c='r')\n",
    "plt.scatter(\n",
    "    fd['child'] + np.random.normal(scale=0.2, size=fd.shape[0]), \n",
    "    fd['parent'] + np.random.normal(scale=0.2, size=fd.shape[0]), c='b')\n",
    "plt.show()"
   ]
  },
  {
   "cell_type": "code",
   "execution_count": 12,
   "metadata": {},
   "outputs": [
    {
     "data": {
      "image/png": "[encoded data removed]",
      "text/plain": [
       "<Figure size 1008x432 with 1 Axes>"
      ]
     },
     "metadata": {
      "needs_background": "light"
     },
     "output_type": "display_data"
    }
   ],
   "source": [
    "# facem un scatterdot pentru a vedea corelatia dintre inaltimile fiicelor si a fiilor cu inaltimea mamei\n",
    "plt.scatter(\n",
    "    ms['child'] + np.random.normal(scale=0.2, size=ms.shape[0]), \n",
    "    ms['parent'] + np.random.normal(scale=0.2, size=ms.shape[0]), c='r')\n",
    "plt.scatter(\n",
    "    md['child'] + np.random.normal(scale=0.2, size=md.shape[0]), \n",
    "    md['parent'] + np.random.normal(scale=0.2, size=md.shape[0]), c='b')\n",
    "plt.show()"
   ]
  },
  {
   "cell_type": "markdown",
   "metadata": {},
   "source": [
    "#### 1.Masurati coeficientul de corelatie dintre aceste variabile "
   ]
  },
  {
   "cell_type": "code",
   "execution_count": 13,
   "metadata": {},
   "outputs": [
    {
     "name": "stdout",
     "output_type": "stream",
     "text": [
      "Populating the interactive namespace from numpy and matplotlib\n"
     ]
    }
   ],
   "source": [
    "from sklearn.preprocessing import scale\n",
    "import sklearn.linear_model as skl_lm\n",
    "from sklearn.metrics import mean_squared_error, r2_score\n",
    "import statsmodels.api as sm\n",
    "import statsmodels.formula.api as smf\n",
    "import scipy.stats as spst\n",
    "\n",
    "import seaborn as sns\n",
    "\n",
    "\n",
    "%matplotlib inline\n",
    "plt.style.use('seaborn-white')\n",
    "%pylab inline\n",
    "pylab.rcParams['figure.figsize'] = (16, 8)"
   ]
  },
  {
   "cell_type": "markdown",
   "metadata": {},
   "source": [
    "##### a) metoda 1 => (r,p-val)"
   ]
  },
  {
   "cell_type": "code",
   "execution_count": 27,
   "metadata": {},
   "outputs": [
    {
     "data": {
      "text/plain": [
       "(0.48491768425178605, 9.100362271637274e-12)"
      ]
     },
     "execution_count": 27,
     "metadata": {},
     "output_type": "execute_result"
    }
   ],
   "source": [
    "#pentrul coeficientul de corelatie dintre inaltimea mamei si inaltimea fiului\n",
    "stats.pearsonr(ms['parent'], ms['child'])"
   ]
  },
  {
   "cell_type": "code",
   "execution_count": 28,
   "metadata": {},
   "outputs": [
    {
     "data": {
      "text/plain": [
       "(0.4674367713012403, 1.9747722235598635e-11)"
      ]
     },
     "execution_count": 28,
     "metadata": {},
     "output_type": "execute_result"
    }
   ],
   "source": [
    "#pentrul coeficientul de corelatie dintre inaltimea mamei si inaltimea fetei\n",
    "stats.pearsonr(md['parent'], md['child'])"
   ]
  },
  {
   "cell_type": "markdown",
   "metadata": {},
   "source": [
    "##### b) metoda 2 => Calcularea coeficientului de corelatie cu riscul alfa=0.05 folosind pingouin"
   ]
  },
  {
   "cell_type": "code",
   "execution_count": 32,
   "metadata": {},
   "outputs": [],
   "source": [
    "import seaborn as sns\n",
    "import matplotlib.pyplot as plt\n",
    "from scipy.stats import pearsonr\n",
    "sns.set(style='white', font_scale=1.2)"
   ]
  },
  {
   "cell_type": "code",
   "execution_count": 39,
   "metadata": {},
   "outputs": [
    {
     "data": {
      "text/html": [
       "<div>\n",
       "<style scoped>\n",
       "    .dataframe tbody tr th:only-of-type {\n",
       "        vertical-align: middle;\n",
       "    }\n",
       "\n",
       "    .dataframe tbody tr th {\n",
       "        vertical-align: top;\n",
       "    }\n",
       "\n",
       "    .dataframe thead th {\n",
       "        text-align: right;\n",
       "    }\n",
       "</style>\n",
       "<table border=\"1\" class=\"dataframe\">\n",
       "  <thead>\n",
       "    <tr style=\"text-align: right;\">\n",
       "      <th></th>\n",
       "      <th>n</th>\n",
       "      <th>r</th>\n",
       "      <th>CI95%</th>\n",
       "      <th>r2</th>\n",
       "      <th>adj_r2</th>\n",
       "      <th>p-val</th>\n",
       "      <th>BF10</th>\n",
       "      <th>power</th>\n",
       "    </tr>\n",
       "  </thead>\n",
       "  <tbody>\n",
       "    <tr>\n",
       "      <td>pearson</td>\n",
       "      <td>176</td>\n",
       "      <td>0.485</td>\n",
       "      <td>[0.36, 0.59]</td>\n",
       "      <td>0.235</td>\n",
       "      <td>0.226</td>\n",
       "      <td>9.100362e-12</td>\n",
       "      <td>9.761e+08</td>\n",
       "      <td>1.0</td>\n",
       "    </tr>\n",
       "  </tbody>\n",
       "</table>\n",
       "</div>"
      ],
      "text/plain": [
       "           n      r         CI95%     r2  adj_r2         p-val       BF10  \\\n",
       "pearson  176  0.485  [0.36, 0.59]  0.235   0.226  9.100362e-12  9.761e+08   \n",
       "\n",
       "         power  \n",
       "pearson    1.0  "
      ]
     },
     "execution_count": 39,
     "metadata": {},
     "output_type": "execute_result"
    }
   ],
   "source": [
    "import pingouin as pg\n",
    "pg.corr(x=ms['parent'], y=ms['child'])"
   ]
  },
  {
   "cell_type": "code",
   "execution_count": 40,
   "metadata": {},
   "outputs": [
    {
     "data": {
      "text/html": [
       "<div>\n",
       "<style scoped>\n",
       "    .dataframe tbody tr th:only-of-type {\n",
       "        vertical-align: middle;\n",
       "    }\n",
       "\n",
       "    .dataframe tbody tr th {\n",
       "        vertical-align: top;\n",
       "    }\n",
       "\n",
       "    .dataframe thead th {\n",
       "        text-align: right;\n",
       "    }\n",
       "</style>\n",
       "<table border=\"1\" class=\"dataframe\">\n",
       "  <thead>\n",
       "    <tr style=\"text-align: right;\">\n",
       "      <th></th>\n",
       "      <th>n</th>\n",
       "      <th>r</th>\n",
       "      <th>CI95%</th>\n",
       "      <th>r2</th>\n",
       "      <th>adj_r2</th>\n",
       "      <th>p-val</th>\n",
       "      <th>BF10</th>\n",
       "      <th>power</th>\n",
       "    </tr>\n",
       "  </thead>\n",
       "  <tbody>\n",
       "    <tr>\n",
       "      <td>pearson</td>\n",
       "      <td>185</td>\n",
       "      <td>0.467</td>\n",
       "      <td>[0.35, 0.57]</td>\n",
       "      <td>0.218</td>\n",
       "      <td>0.21</td>\n",
       "      <td>1.974772e-11</td>\n",
       "      <td>4.529e+08</td>\n",
       "      <td>1.0</td>\n",
       "    </tr>\n",
       "  </tbody>\n",
       "</table>\n",
       "</div>"
      ],
      "text/plain": [
       "           n      r         CI95%     r2  adj_r2         p-val       BF10  \\\n",
       "pearson  185  0.467  [0.35, 0.57]  0.218    0.21  1.974772e-11  4.529e+08   \n",
       "\n",
       "         power  \n",
       "pearson    1.0  "
      ]
     },
     "execution_count": 40,
     "metadata": {},
     "output_type": "execute_result"
    }
   ],
   "source": [
    "pg.corr(x=md['parent'], y=md['child'])"
   ]
  },
  {
   "cell_type": "code",
   "execution_count": 37,
   "metadata": {},
   "outputs": [
    {
     "data": {
      "image/png": "[encoded data removed]",
      "text/plain": [
       "<Figure size 648x648 with 3 Axes>"
      ]
     },
     "metadata": {},
     "output_type": "display_data"
    }
   ],
   "source": [
    "#coeficientul de corelatie calculat pentru inaltimea mamei si inaltimea baiatului\n",
    "g = sns.JointGrid(data=ms, x='parent', y='child', xlim=(30, 80), ylim=(30, 80), height=9)\n",
    "g = g.plot_joint(sns.regplot, color=\"xkcd:muted blue\")\n",
    "g = g.plot_marginals(sns.distplot, kde=False, bins=12, color=\"xkcd:bluey grey\")\n",
    "g.ax_joint.text(0, 80, 'r = 0.485, alfa = .05', fontstyle='italic')\n",
    "plt.tight_layout()"
   ]
  },
  {
   "cell_type": "code",
   "execution_count": 38,
   "metadata": {},
   "outputs": [
    {
     "data": {
      "image/png": "[encoded data removed]",
      "text/plain": [
       "<Figure size 648x648 with 3 Axes>"
      ]
     },
     "metadata": {},
     "output_type": "display_data"
    }
   ],
   "source": [
    "#coeficientul de corelatie calculat pentru inaltimea mamei si inaltimea fetei\n",
    "g = sns.JointGrid(data=md, x='parent', y='child', xlim=(30, 80), ylim=(30, 80), height=9)\n",
    "g = g.plot_joint(sns.regplot, color=\"xkcd:muted blue\")\n",
    "g = g.plot_marginals(sns.distplot, kde=False, bins=12, color=\"xkcd:bluey grey\")\n",
    "g.ax_joint.text(0, 80, 'r = 0.467, alfa = .05', fontstyle='italic')\n",
    "plt.tight_layout()"
   ]
  },
  {
   "cell_type": "markdown",
   "metadata": {},
   "source": [
    "##### 2.Comentati aceste rezultate in comparatie cu cele obtinute pentru parintii de sex masculin si copii lor"
   ]
  },
  {
   "cell_type": "code",
   "execution_count": 45,
   "metadata": {},
   "outputs": [
    {
     "data": {
      "text/html": [
       "<div>\n",
       "<style scoped>\n",
       "    .dataframe tbody tr th:only-of-type {\n",
       "        vertical-align: middle;\n",
       "    }\n",
       "\n",
       "    .dataframe tbody tr th {\n",
       "        vertical-align: top;\n",
       "    }\n",
       "\n",
       "    .dataframe thead th {\n",
       "        text-align: right;\n",
       "    }\n",
       "</style>\n",
       "<table border=\"1\" class=\"dataframe\">\n",
       "  <thead>\n",
       "    <tr style=\"text-align: right;\">\n",
       "      <th></th>\n",
       "      <th>n</th>\n",
       "      <th>r</th>\n",
       "      <th>CI95%</th>\n",
       "      <th>r2</th>\n",
       "      <th>adj_r2</th>\n",
       "      <th>p-val</th>\n",
       "      <th>BF10</th>\n",
       "      <th>power</th>\n",
       "    </tr>\n",
       "  </thead>\n",
       "  <tbody>\n",
       "    <tr>\n",
       "      <td>pearson</td>\n",
       "      <td>206</td>\n",
       "      <td>0.472</td>\n",
       "      <td>[0.36, 0.57]</td>\n",
       "      <td>0.223</td>\n",
       "      <td>0.215</td>\n",
       "      <td>7.905672e-13</td>\n",
       "      <td>1.002e+10</td>\n",
       "      <td>1.0</td>\n",
       "    </tr>\n",
       "  </tbody>\n",
       "</table>\n",
       "</div>"
      ],
      "text/plain": [
       "           n      r         CI95%     r2  adj_r2         p-val       BF10  \\\n",
       "pearson  206  0.472  [0.36, 0.57]  0.223   0.215  7.905672e-13  1.002e+10   \n",
       "\n",
       "         power  \n",
       "pearson    1.0  "
      ]
     },
     "execution_count": 45,
     "metadata": {},
     "output_type": "execute_result"
    }
   ],
   "source": [
    "# avem rezultatele:\n",
    "#tata - fiica\n",
    "pg.corr(x=fd['parent'], y=fd['child'])"
   ]
  },
  {
   "cell_type": "code",
   "execution_count": 46,
   "metadata": {},
   "outputs": [
    {
     "data": {
      "text/html": [
       "<div>\n",
       "<style scoped>\n",
       "    .dataframe tbody tr th:only-of-type {\n",
       "        vertical-align: middle;\n",
       "    }\n",
       "\n",
       "    .dataframe tbody tr th {\n",
       "        vertical-align: top;\n",
       "    }\n",
       "\n",
       "    .dataframe thead th {\n",
       "        text-align: right;\n",
       "    }\n",
       "</style>\n",
       "<table border=\"1\" class=\"dataframe\">\n",
       "  <thead>\n",
       "    <tr style=\"text-align: right;\">\n",
       "      <th></th>\n",
       "      <th>n</th>\n",
       "      <th>r</th>\n",
       "      <th>CI95%</th>\n",
       "      <th>r2</th>\n",
       "      <th>adj_r2</th>\n",
       "      <th>p-val</th>\n",
       "      <th>BF10</th>\n",
       "      <th>power</th>\n",
       "    </tr>\n",
       "  </thead>\n",
       "  <tbody>\n",
       "    <tr>\n",
       "      <td>pearson</td>\n",
       "      <td>179</td>\n",
       "      <td>0.521</td>\n",
       "      <td>[0.4, 0.62]</td>\n",
       "      <td>0.271</td>\n",
       "      <td>0.263</td>\n",
       "      <td>7.954370e-14</td>\n",
       "      <td>9.784e+10</td>\n",
       "      <td>1.0</td>\n",
       "    </tr>\n",
       "  </tbody>\n",
       "</table>\n",
       "</div>"
      ],
      "text/plain": [
       "           n      r        CI95%     r2  adj_r2         p-val       BF10  \\\n",
       "pearson  179  0.521  [0.4, 0.62]  0.271   0.263  7.954370e-14  9.784e+10   \n",
       "\n",
       "         power  \n",
       "pearson    1.0  "
      ]
     },
     "execution_count": 46,
     "metadata": {},
     "output_type": "execute_result"
    }
   ],
   "source": [
    "#tata - fiu\n",
    "pg.corr(x=fs['parent'], y=fs['child'])"
   ]
  },
  {
   "cell_type": "code",
   "execution_count": 47,
   "metadata": {},
   "outputs": [
    {
     "data": {
      "text/html": [
       "<div>\n",
       "<style scoped>\n",
       "    .dataframe tbody tr th:only-of-type {\n",
       "        vertical-align: middle;\n",
       "    }\n",
       "\n",
       "    .dataframe tbody tr th {\n",
       "        vertical-align: top;\n",
       "    }\n",
       "\n",
       "    .dataframe thead th {\n",
       "        text-align: right;\n",
       "    }\n",
       "</style>\n",
       "<table border=\"1\" class=\"dataframe\">\n",
       "  <thead>\n",
       "    <tr style=\"text-align: right;\">\n",
       "      <th></th>\n",
       "      <th>n</th>\n",
       "      <th>r</th>\n",
       "      <th>CI95%</th>\n",
       "      <th>r2</th>\n",
       "      <th>adj_r2</th>\n",
       "      <th>p-val</th>\n",
       "      <th>BF10</th>\n",
       "      <th>power</th>\n",
       "    </tr>\n",
       "  </thead>\n",
       "  <tbody>\n",
       "    <tr>\n",
       "      <td>pearson</td>\n",
       "      <td>185</td>\n",
       "      <td>0.467</td>\n",
       "      <td>[0.35, 0.57]</td>\n",
       "      <td>0.218</td>\n",
       "      <td>0.21</td>\n",
       "      <td>1.974772e-11</td>\n",
       "      <td>4.529e+08</td>\n",
       "      <td>1.0</td>\n",
       "    </tr>\n",
       "  </tbody>\n",
       "</table>\n",
       "</div>"
      ],
      "text/plain": [
       "           n      r         CI95%     r2  adj_r2         p-val       BF10  \\\n",
       "pearson  185  0.467  [0.35, 0.57]  0.218    0.21  1.974772e-11  4.529e+08   \n",
       "\n",
       "         power  \n",
       "pearson    1.0  "
      ]
     },
     "execution_count": 47,
     "metadata": {},
     "output_type": "execute_result"
    }
   ],
   "source": [
    "#mama -  fiica\n",
    "pg.corr(x=md['parent'], y=md['child'])"
   ]
  },
  {
   "cell_type": "code",
   "execution_count": 48,
   "metadata": {},
   "outputs": [
    {
     "data": {
      "text/html": [
       "<div>\n",
       "<style scoped>\n",
       "    .dataframe tbody tr th:only-of-type {\n",
       "        vertical-align: middle;\n",
       "    }\n",
       "\n",
       "    .dataframe tbody tr th {\n",
       "        vertical-align: top;\n",
       "    }\n",
       "\n",
       "    .dataframe thead th {\n",
       "        text-align: right;\n",
       "    }\n",
       "</style>\n",
       "<table border=\"1\" class=\"dataframe\">\n",
       "  <thead>\n",
       "    <tr style=\"text-align: right;\">\n",
       "      <th></th>\n",
       "      <th>n</th>\n",
       "      <th>r</th>\n",
       "      <th>CI95%</th>\n",
       "      <th>r2</th>\n",
       "      <th>adj_r2</th>\n",
       "      <th>p-val</th>\n",
       "      <th>BF10</th>\n",
       "      <th>power</th>\n",
       "    </tr>\n",
       "  </thead>\n",
       "  <tbody>\n",
       "    <tr>\n",
       "      <td>pearson</td>\n",
       "      <td>176</td>\n",
       "      <td>0.485</td>\n",
       "      <td>[0.36, 0.59]</td>\n",
       "      <td>0.235</td>\n",
       "      <td>0.226</td>\n",
       "      <td>9.100362e-12</td>\n",
       "      <td>9.761e+08</td>\n",
       "      <td>1.0</td>\n",
       "    </tr>\n",
       "  </tbody>\n",
       "</table>\n",
       "</div>"
      ],
      "text/plain": [
       "           n      r         CI95%     r2  adj_r2         p-val       BF10  \\\n",
       "pearson  176  0.485  [0.36, 0.59]  0.235   0.226  9.100362e-12  9.761e+08   \n",
       "\n",
       "         power  \n",
       "pearson    1.0  "
      ]
     },
     "execution_count": 48,
     "metadata": {},
     "output_type": "execute_result"
    }
   ],
   "source": [
    "#mama - fiu\n",
    "pg.corr(x=ms['parent'], y=ms['child'])"
   ]
  },
  {
   "cell_type": "markdown",
   "metadata": {},
   "source": [
    "##### RASPUNS: Din cele 4 date, observam ca legatura dintre variabile este pozitiva (r>0) , moderata (0.4 < r <0.7) , iar r^2% ne arata cat la suta din variatia variabilelor dependente (inaltimile copiilor) este explicata de variatia variabilei independente (inaltimea parintilor). Observam ca cel mai mare rezultat l-am obtinut la modelul tata-fiu, unde 27.1% din variatia inaltimii baiatului este explicata de variatia inaltimi tatalui."
   ]
  },
  {
   "cell_type": "code",
   "execution_count": null,
   "metadata": {},
   "outputs": [],
   "source": []
  }
 ],
 "metadata": {
  "kernelspec": {
   "display_name": "Python 3",
   "language": "python",
   "name": "python3"
  },
  "language_info": {
   "codemirror_mode": {
    "name": "ipython",
    "version": 3
   },
   "file_extension": ".py",
   "mimetype": "text/x-python",
   "name": "python",
   "nbconvert_exporter": "python",
   "pygments_lexer": "ipython3",
   "version": "3.7.4"
  }
 },
 "nbformat": 4,
 "nbformat_minor": 2
}
